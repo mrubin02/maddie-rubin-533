{
 "cells": [
  {
   "cell_type": "code",
   "execution_count": 120,
   "metadata": {
    "collapsed": true
   },
   "outputs": [
    {
     "name": "stdout",
     "output_type": "stream",
     "text": [
      "      trade_id     date asset   trip action type     price     status\n",
      "0            1   1/3/20   IVV  ENTER    BUY  LMT  323.0600  SUBMITTED\n",
      "1            1   1/3/20   IVV  ENTER    BUY  LMT  323.0600     FILLED\n",
      "2            1   1/3/20   IVV   EXIT   SELL  LMT  326.2906  SUBMITTED\n",
      "3            1   1/8/20   IVV   EXIT   SELL  LMT  326.2906     FILLED\n",
      "4            2   1/6/20   IVV  ENTER    BUY  LMT  320.5700  SUBMITTED\n",
      "...        ...      ...   ...    ...    ...  ...       ...        ...\n",
      "2606       810  3/22/23   IVV  ENTER    BUY  LMT  398.2100  SUBMITTED\n",
      "2607       810  3/22/23   IVV  ENTER    BUY  LMT  398.2100     FILLED\n",
      "2608       810  3/22/23   IVV   EXIT   SELL  LMT  402.1921  SUBMITTED\n",
      "2609       810  3/23/23   IVV   EXIT   SELL  LMT  402.1921       LIVE\n",
      "2610       811  3/23/23   IVV  ENTER    BUY  LMT  391.5400       LIVE\n",
      "\n",
      "[2611 rows x 8 columns]\n"
     ]
    }
   ],
   "source": [
    "import sklearn.model_selection\n",
    "import pandas as pd\n",
    "\n",
    "# Import BBJ's File!\n",
    "from hw3_janeane import *\n",
    "\n",
    "blotter = pd.read_csv('blotter.csv')\n",
    "print(blotter)"
   ]
  },
  {
   "cell_type": "code",
   "execution_count": 121,
   "metadata": {
    "collapsed": false
   },
   "outputs": [
    {
     "name": "stdout",
     "output_type": "stream",
     "text": [
      "      trade_id asset dt_enter  dt_exit success  n       rtn\n",
      "3            1   IVV   1/3/20   1/8/20       1  4  0.002488\n",
      "5            2   IVV   1/6/20                0  3          \n",
      "7            3   IVV   1/7/20                0  3          \n",
      "9            4   IVV   1/8/20                0  3          \n",
      "11           5   IVV   1/9/20                0  3          \n",
      "...        ...   ...      ...      ...     ... ..       ...\n",
      "2601       807   IVV  3/17/23  3/21/23       1  3  0.003317\n",
      "2603       808   IVV  3/20/23                0  3          \n",
      "2605       809   IVV  3/21/23                              \n",
      "2609       810   IVV  3/22/23                              \n",
      "2610       811   IVV  3/23/23                              \n",
      "\n",
      "[811 rows x 7 columns]\n",
      "      trade_id asset dt_enter  dt_exit success  n       rtn\n",
      "3            1   IVV   1/3/20   1/8/20       1  4  0.002488\n",
      "5            2   IVV   1/6/20                0  3          \n",
      "7            3   IVV   1/7/20                0  3          \n",
      "9            4   IVV   1/8/20                0  3          \n",
      "11           5   IVV   1/9/20                0  3          \n",
      "...        ...   ...      ...      ...     ... ..       ...\n",
      "2601       807   IVV  3/17/23  3/21/23       1  3  0.003317\n",
      "2603       808   IVV  3/20/23                0  3          \n",
      "2605       809   IVV  3/21/23                              \n",
      "2609       810   IVV  3/22/23                              \n",
      "2610       811   IVV  3/23/23                              \n",
      "\n",
      "[811 rows x 7 columns]\n"
     ]
    }
   ],
   "source": [
    "ledger = ledger(blotter)\n",
    "print(ledger)"
   ]
  },
  {
   "cell_type": "code",
   "execution_count": 122,
   "metadata": {
    "collapsed": false
   },
   "outputs": [
    {
     "name": "stdout",
     "output_type": "stream",
     "text": [
      "     ECRPUS 1Y Index  SPXSFRCS Index  FDTRFTRL Index\n",
      "0               30.0            3318             1.5\n",
      "1               30.0            3318             1.5\n",
      "2               30.0            3318             1.5\n",
      "3               30.0            3318             1.5\n",
      "4               30.0            3318             1.5\n",
      "..               ...             ...             ...\n",
      "803             60.0            4050             4.5\n",
      "804             60.0            4050             4.5\n",
      "805             60.0            4050             4.5\n",
      "806             60.0            4050             4.5\n",
      "807             60.0            4050             4.5\n",
      "\n",
      "[808 rows x 3 columns]\n"
     ]
    }
   ],
   "source": [
    "# build your set of features here.\n",
    "# merge them by date to add to this dataframe.\n",
    "import pandas as pd\n",
    "data = pd.read_csv('hw4.csv')\n",
    "features = data[['ECRPUS 1Y Index','SPXSFRCS Index','FDTRFTRL Index']]\n",
    "print(features)"
   ]
  },
  {
   "cell_type": "code",
   "execution_count": 123,
   "metadata": {
    "collapsed": false
   },
   "outputs": [
    {
     "name": "stdout",
     "output_type": "stream",
     "text": [
      "     ECRPUS 1Y Index  SPXSFRCS Index  FDTRFTRL Index\n",
      "0               30.0            3318            1.50\n",
      "1               30.0            3318            1.50\n",
      "2               30.0            3318            1.50\n",
      "3               30.0            3318            1.50\n",
      "4               30.0            3318            1.50\n",
      "..               ...             ...             ...\n",
      "595             30.0            4868            0.75\n",
      "596             30.0            4868            0.75\n",
      "597             30.0            4787            0.75\n",
      "598             30.0            4743            0.75\n",
      "599             30.0            4743            0.75\n",
      "\n",
      "[600 rows x 3 columns]\n",
      "     ECRPUS 1Y Index  SPXSFRCS Index  FDTRFTRL Index\n",
      "601             30.0            4743            0.75\n",
      "602             30.0            4743            0.75\n",
      "603             30.0            4743            0.75\n",
      "604             30.0            4743            0.75\n",
      "605             30.0            4743            0.75\n",
      "..               ...             ...             ...\n",
      "803             60.0            4050            4.50\n",
      "804             60.0            4050            4.50\n",
      "805             60.0            4050            4.50\n",
      "806             60.0            4050            4.50\n",
      "807             60.0            4050            4.50\n",
      "\n",
      "[207 rows x 3 columns]\n",
      "[b'1' b'0' b'0' b'0' b'0' b'0' b'0' b'0' b'0' b'0' b'0' b'0' b'-1' b'-1'\n",
      " b'-1' b'-1' b'0' b'1' b'1' b'1' b'0' b'0' b'0' b'0' b'0' b'0' b'0' b'0'\n",
      " b'0' b'0' b'-1' b'-1' b'-1' b'-1' b'-1' b'-1' b'1' b'1' b'1' b'0' b'1'\n",
      " b'-1' b'-1' b'-1' b'-1' b'1' b'-1' b'-1' b'1' b'-1' b'1' b'1' b'1' b'1'\n",
      " b'1' b'0' b'1' b'0' b'1' b'1' b'1' b'1' b'0' b'1' b'0' b'0' b'0' b'0'\n",
      " b'1' b'0' b'1' b'0' b'1' b'1' b'1' b'0' b'0' b'0' b'0' b'0' b'1' b'-1'\n",
      " b'1' b'1' b'0' b'0' b'0' b'0' b'1' b'1' b'1' b'1' b'1' b'0' b'1' b'0'\n",
      " b'1' b'0' b'0' b'0' b'1' b'1' b'0' b'0' b'0' b'1' b'0' b'0' b'-1' b'-1'\n",
      " b'-1' b'1' b'1' b'0' b'1' b'1' b'1' b'1' b'1' b'-1' b'1' b'1' b'0' b'0'\n",
      " b'0' b'0' b'0' b'1' b'0' b'1' b'0' b'1' b'0' b'0' b'0' b'0' b'0' b'0'\n",
      " b'1' b'-1' b'1' b'0' b'1' b'0' b'1' b'0' b'0' b'0' b'0' b'0' b'0' b'0'\n",
      " b'1' b'0' b'0' b'0' b'0' b'0' b'1' b'0' b'0' b'0' b'0' b'0' b'0' b'0'\n",
      " b'0' b'-1' b'-1' b'-1' b'-1' b'-1' b'0' b'1' b'0' b'0' b'-1' b'-1' b'-1'\n",
      " b'-1' b'1' b'1' b'1' b'0' b'0' b'0' b'0' b'0' b'1' b'1' b'0' b'1' b'0'\n",
      " b'0' b'0' b'0' b'-1' b'1' b'1' b'-1' b'-1' b'0' b'0' b'-1' b'-1' b'-1'\n",
      " b'1' b'1' b'1' b'1' b'0' b'0' b'0' b'0' b'0' b'0' b'1' b'0' b'1' b'0'\n",
      " b'0' b'1' b'1' b'0' b'0' b'0' b'0' b'1' b'0' b'1' b'0' b'0' b'0' b'0'\n",
      " b'-1' b'1' b'-1' b'1' b'1' b'0' b'0' b'0' b'1' b'1' b'1' b'0' b'0' b'0'\n",
      " b'0' b'0' b'1' b'1' b'1' b'0' b'0' b'0' b'0' b'1' b'0' b'1' b'1' b'1'\n",
      " b'0' b'0' b'1' b'1' b'1' b'-1' b'-1' b'1' b'1' b'0' b'0' b'0' b'0' b'0'\n",
      " b'0' b'1' b'0' b'0' b'0' b'-1' b'1' b'-1' b'1' b'1' b'1' b'1' b'-1' b'1'\n",
      " b'0' b'1' b'1' b'1' b'1' b'0' b'0' b'0' b'0' b'0' b'0' b'-1' b'-1' b'-1'\n",
      " b'0' b'0' b'1' b'1' b'1' b'0' b'0' b'0' b'0' b'0' b'0' b'0' b'0' b'0'\n",
      " b'0' b'0' b'0' b'0' b'0' b'1' b'1' b'1' b'0' b'1' b'0' b'0' b'0' b'0'\n",
      " b'0' b'1' b'1' b'1' b'0' b'0' b'-1' b'-1' b'-1' b'1' b'0' b'0' b'1' b'1'\n",
      " b'1' b'0' b'0' b'0' b'0' b'0' b'0' b'0' b'0' b'0' b'0' b'0' b'0' b'0'\n",
      " b'0' b'0' b'0' b'1' b'1' b'1' b'1' b'1' b'0' b'0' b'0' b'0' b'0' b'0'\n",
      " b'0' b'0' b'0' b'0' b'1' b'1' b'1' b'0' b'0' b'-1' b'1' b'1' b'1' b'1'\n",
      " b'0' b'0' b'0' b'0' b'0' b'1' b'0' b'0' b'1' b'0' b'0' b'0' b'0' b'0'\n",
      " b'0' b'0' b'0' b'0' b'0' b'1' b'1' b'1' b'0' b'0' b'0' b'0' b'0' b'0'\n",
      " b'0' b'0' b'0' b'0' b'0' b'0' b'0' b'-1' b'-1' b'-1' b'0' b'0' b'0' b'-1'\n",
      " b'-1' b'1' b'0' b'0' b'0' b'-1' b'-1' b'-1' b'1' b'1' b'0' b'1' b'0' b'1'\n",
      " b'0' b'1' b'1' b'0' b'0' b'0' b'0' b'0' b'0' b'0' b'0' b'0' b'0' b'0'\n",
      " b'0' b'0' b'0' b'0' b'0' b'0' b'0' b'0' b'1' b'1' b'1' b'0' b'0' b'0'\n",
      " b'0' b'0' b'0' b'-1' b'0' b'-1' b'-1' b'-1' b'1' b'1' b'1' b'0' b'1' b'0'\n",
      " b'0' b'0' b'1' b'1' b'1' b'1' b'0' b'1' b'1' b'1' b'0' b'0' b'0' b'0'\n",
      " b'0' b'0' b'0' b'0' b'-1' b'-1' b'-1' b'1' b'1' b'1' b'0' b'-1' b'-1'\n",
      " b'1' b'-1' b'1' b'-1' b'-1' b'1' b'1' b'1' b'1' b'0' b'0' b'0' b'1' b'1'\n",
      " b'0' b'0' b'0' b'-1' b'-1' b'-1' b'1' b'0' b'-1' b'-1' b'1' b'1' b'1'\n",
      " b'1' b'0' b'1' b'1' b'0' b'-1' b'-1' b'-1' b'1' b'0' b'1' b'1' b'1' b'0'\n",
      " b'0' b'0' b'0' b'0' b'0' b'1' b'0' b'0' b'0' b'0' b'-1' b'-1' b'0' b'-1'\n",
      " b'-1' b'-1' b'-1' b'-1' b'-1' b'0' b'0' b'1' b'0' b'0' b'-1' b'-1' b'-1'\n",
      " b'1' b'1' b'1' b'1' b'1' b'1' b'1' b'-1' b'-1' b'-1' b'-1' b'1' b'1' b'1'\n",
      " b'0' b'1' b'-1' b'-1' b'1']\n"
     ]
    }
   ],
   "source": [
    "import numpy as np\n",
    "from sklearn.linear_model import Perceptron\n",
    "from sklearn.preprocessing import StandardScaler\n",
    "\n",
    "# Make a training set and let's try it out on two upcoming trades.\n",
    "# Choose a subset of data:\n",
    "X = features.head(600)\n",
    "x_test = features[601:]\n",
    "y = np.asarray(ledger.success.head(600), dtype=\"|S6\")\n",
    "\n",
    "print(X)\n",
    "print(x_test)\n",
    "print(y)"
   ]
  },
  {
   "cell_type": "code",
   "execution_count": 124,
   "metadata": {
    "collapsed": false
   },
   "outputs": [
    {
     "name": "stdout",
     "output_type": "stream",
     "text": [
      "[[-0.13210777 -0.92181501  3.40014402]\n",
      " [-0.13210777 -0.92181501  3.40014402]\n",
      " [-0.13210777 -0.92181501  3.40014402]\n",
      " ...\n",
      " [-0.13210777  1.21641756  1.51930221]\n",
      " [-0.13210777  1.15237247  1.51930221]\n",
      " [-0.13210777  1.15237247  1.51930221]]\n"
     ]
    }
   ],
   "source": [
    "sc = StandardScaler()\n",
    "\n",
    "sc.fit(X)\n",
    "X_std = sc.transform(X)\n",
    "X_std = sc.transform(X)\n",
    "x_test_std = sc.transform(x_test)\n",
    "\n",
    "print(X_std)\n",
    "from sklearn.decomposition import PCA\n",
    "pca = PCA(n_components = 1)\n",
    "X_train = pca.fit_transform(X_std)\n",
    "X_test = pca.transform(x_test_std)\n",
    "explained_variance = pca.explained_variance_ratio_\n"
   ]
  },
  {
   "cell_type": "code",
   "execution_count": 125,
   "metadata": {
    "collapsed": false
   },
   "outputs": [
    {
     "name": "stdout",
     "output_type": "stream",
     "text": [
      "[b'0' b'0' b'0' b'0' b'0' b'0' b'0' b'0' b'0' b'0' b'0' b'0' b'0' b'0'\n",
      " b'0' b'0' b'0' b'0' b'0' b'0' b'0' b'0' b'0' b'0' b'0' b'0' b'0' b'0'\n",
      " b'0' b'0' b'0' b'0' b'0' b'0' b'0' b'0' b'0' b'0' b'0' b'0' b'0' b'0'\n",
      " b'0' b'0' b'0' b'0' b'0' b'0' b'0' b'0' b'0' b'0' b'0' b'0' b'0' b'0'\n",
      " b'1' b'1' b'1' b'1' b'1' b'1' b'1' b'1' b'1' b'1' b'1' b'1' b'1' b'1'\n",
      " b'1' b'1' b'1' b'1' b'1' b'1' b'1' b'1' b'1' b'1' b'1' b'1' b'1' b'1'\n",
      " b'1' b'1' b'1' b'1' b'1' b'1' b'1' b'1' b'1' b'1' b'1' b'1' b'1' b'1'\n",
      " b'1' b'1' b'1' b'1' b'1' b'1' b'1' b'1' b'1' b'1' b'1' b'1' b'1' b'1'\n",
      " b'1' b'1' b'1' b'1' b'1' b'1' b'1' b'1' b'1' b'1' b'1' b'1' b'1' b'1'\n",
      " b'1' b'1' b'1' b'1' b'1' b'1' b'1' b'1' b'1' b'1' b'1' b'1' b'1' b'1'\n",
      " b'1' b'1' b'1' b'1' b'1' b'1' b'1' b'1' b'1' b'1' b'1' b'1' b'1' b'1'\n",
      " b'1' b'1' b'1' b'1' b'1' b'1' b'1' b'1' b'1' b'1' b'1' b'1' b'1' b'1'\n",
      " b'1' b'1' b'1' b'1' b'1' b'1' b'1' b'1' b'1' b'1' b'1' b'1' b'1' b'1'\n",
      " b'1' b'1' b'1' b'1' b'1' b'1' b'1' b'1' b'1' b'1' b'1' b'1' b'1' b'1'\n",
      " b'1' b'1' b'1' b'1' b'1' b'1' b'1' b'1' b'1' b'1' b'1']\n"
     ]
    }
   ],
   "source": [
    "ppn = Perceptron(eta0=0.1)\n",
    "ppn.fit(X_train, y)\n",
    "\n",
    "y_pred = ppn.predict(X_test)\n",
    "print(y_pred)"
   ]
  },
  {
   "cell_type": "code",
   "execution_count": 126,
   "metadata": {
    "collapsed": false
   },
   "outputs": [
    {
     "name": "stdout",
     "output_type": "stream",
     "text": [
      "     trade_id asset dt_enter  dt_exit success  n       rtn\n",
      "178        52   IVV  3/18/20  3/25/20       1  6  0.001658\n",
      "182        53   IVV  3/19/20  3/19/20       1  1   0.00995\n"
     ]
    }
   ],
   "source": [
    "print(ledger.iloc[[51, 52]])"
   ]
  },
  {
   "cell_type": "code",
   "execution_count": 126,
   "metadata": {
    "collapsed": false
   },
   "outputs": [],
   "source": []
  }
 ],
 "metadata": {
  "kernelspec": {
   "display_name": "Python 3",
   "language": "python",
   "name": "python3"
  },
  "language_info": {
   "codemirror_mode": {
    "name": "ipython",
    "version": 2
   },
   "file_extension": ".py",
   "mimetype": "text/x-python",
   "name": "python",
   "nbconvert_exporter": "python",
   "pygments_lexer": "ipython2",
   "version": "3.8.9"
  }
 },
 "nbformat": 4,
 "nbformat_minor": 0
}
